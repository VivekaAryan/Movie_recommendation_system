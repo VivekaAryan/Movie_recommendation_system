{
 "cells": [
  {
   "cell_type": "code",
   "execution_count": null,
   "metadata": {},
   "outputs": [],
   "source": [
    "from llm_quantization_utils import load_quantized_model\n",
    "from llm_quantization_utils import initialize_tokenizer"
   ]
  },
  {
   "cell_type": "code",
   "execution_count": null,
   "metadata": {},
   "outputs": [],
   "source": [
    "# specify model huggingface mode name\n",
    "model_name = \"microsoft/Phi-3-mini-4k-instruct\"\n",
    "\n",
    "# initialize tokenizer\n",
    "tokenizer = initialize_tokenizer(model_name)\n",
    "# load model\n",
    "model = load_quantized_model(model_name)"
   ]
  },
  {
   "cell_type": "code",
   "execution_count": null,
   "metadata": {},
   "outputs": [],
   "source": [
    "# Save the model and tokenizer\n",
    "model.save_pretrained(\"saved-model/quantized_model\")\n",
    "tokenizer.save_pretrained(\"saved-model/quantized_tokenizer\")"
   ]
  }
 ],
 "metadata": {
  "language_info": {
   "name": "python"
  }
 },
 "nbformat": 4,
 "nbformat_minor": 2
}
