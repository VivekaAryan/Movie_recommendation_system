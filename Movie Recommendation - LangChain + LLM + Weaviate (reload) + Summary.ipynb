{
 "cells": [
  {
   "cell_type": "code",
   "execution_count": 2,
   "metadata": {},
   "outputs": [],
   "source": [
    "import pandas as pd\n",
    "import numpy as np\n",
    "import matplotlib.pyplot as plt"
   ]
  },
  {
   "cell_type": "code",
   "execution_count": 3,
   "metadata": {},
   "outputs": [],
   "source": [
    "df = pd.read_csv('Data/final_metadata.csv')"
   ]
  },
  {
   "cell_type": "code",
   "execution_count": 4,
   "metadata": {},
   "outputs": [
    {
     "data": {
      "text/plain": [
       "(19951, 14)"
      ]
     },
     "execution_count": 4,
     "metadata": {},
     "output_type": "execute_result"
    }
   ],
   "source": [
    "df.shape"
   ]
  },
  {
   "cell_type": "code",
   "execution_count": 5,
   "metadata": {},
   "outputs": [],
   "source": [
    "df.drop(columns=['release_date','vote_average', 'vote_count'], inplace=True)"
   ]
  },
  {
   "cell_type": "code",
   "execution_count": 6,
   "metadata": {},
   "outputs": [
    {
     "name": "stdout",
     "output_type": "stream",
     "text": [
      "<class 'pandas.core.frame.DataFrame'>\n",
      "RangeIndex: 19951 entries, 0 to 19950\n",
      "Data columns (total 11 columns):\n",
      " #   Column             Non-Null Count  Dtype  \n",
      "---  ------             --------------  -----  \n",
      " 0   id                 19951 non-null  int64  \n",
      " 1   title              19951 non-null  object \n",
      " 2   genres             19951 non-null  object \n",
      " 3   original_language  19951 non-null  object \n",
      " 4   overview           19951 non-null  object \n",
      " 5   popularity         19951 non-null  float64\n",
      " 6   keywords           19951 non-null  object \n",
      " 7   year               19951 non-null  int64  \n",
      " 8   cast               19951 non-null  object \n",
      " 9   director           19951 non-null  object \n",
      " 10  score              19951 non-null  float64\n",
      "dtypes: float64(2), int64(2), object(7)\n",
      "memory usage: 1.7+ MB\n"
     ]
    }
   ],
   "source": [
    "df.info()"
   ]
  },
  {
   "cell_type": "code",
   "execution_count": 7,
   "metadata": {},
   "outputs": [
    {
     "data": {
      "text/plain": [
       "'Title: Godzilla x Kong: The New Empire. Genres: Science Fiction Action Adventure. Keywords: giantmonster sequel dinosaur kaiju fantasyworld giantape godzilla kingkong mongkey. Cast: RebeccaHall BrianTyreeHenry DanStevens. Director: Adam Wingard.'"
      ]
     },
     "execution_count": 7,
     "metadata": {},
     "output_type": "execute_result"
    }
   ],
   "source": [
    "#Combine title, synopsis, and Genre\n",
    "df['soup'] = df.apply(lambda row: f\"Title: {row['title']}. Genres: {row['genres']}. Keywords: {row['keywords']}. Cast: {row['cast']}. Director: {row['director']}.\", axis=1)\n",
    "df['soup'][0]"
   ]
  },
  {
   "cell_type": "code",
   "execution_count": 8,
   "metadata": {},
   "outputs": [],
   "source": [
    "# pip install -U langchain\n",
    "# pip install -U langchain-community"
   ]
  },
  {
   "cell_type": "code",
   "execution_count": 9,
   "metadata": {},
   "outputs": [],
   "source": [
    "from langchain.docstore.document import Document\n",
    "\n",
    "movies = []\n",
    "\n",
    "for index, row in df.iterrows():\n",
    "    x = Document(page_content=row['soup'], \n",
    "                 metadata={\n",
    "                     \"movie\": row['title'],\n",
    "                     \"language\": row['original_language'], \n",
    "                     \"popularity\": row['popularity'], \n",
    "                     \"year\": row['year'],\n",
    "                     \"synopsis\": row['overview'],\n",
    "                     \"score\": row['score']\n",
    "                     })\n",
    "    movies.append(x)\n",
    "\n",
    "# doc =  Document(page_content=\"text\", metadata={\"source\": \"local\"})"
   ]
  },
  {
   "cell_type": "code",
   "execution_count": 10,
   "metadata": {},
   "outputs": [
    {
     "data": {
      "text/plain": [
       "19951"
      ]
     },
     "execution_count": 10,
     "metadata": {},
     "output_type": "execute_result"
    }
   ],
   "source": [
    "len(movies)"
   ]
  },
  {
   "cell_type": "code",
   "execution_count": 11,
   "metadata": {},
   "outputs": [],
   "source": [
    "import weaviate\n",
    "from langchain.vectorstores import Weaviate\n",
    "from langchain_weaviate.vectorstores import WeaviateVectorStore"
   ]
  },
  {
   "cell_type": "code",
   "execution_count": 12,
   "metadata": {},
   "outputs": [],
   "source": [
    "import weaviate\n",
    "from weaviate.auth import AuthApiKey\n",
    "\n",
    "client = weaviate.connect_to_weaviate_cloud(\n",
    "    cluster_url=\"\",                       # `weaviate_url`: your Weaviate URL\n",
    "    auth_credentials=AuthApiKey(\"\"),      # `weaviate_key`: your Weaviate API key\n",
    ")"
   ]
  },
  {
   "cell_type": "code",
   "execution_count": 13,
   "metadata": {},
   "outputs": [
    {
     "name": "stderr",
     "output_type": "stream",
     "text": [
      "c:\\Users\\aryan\\AppData\\Local\\Programs\\Python\\Python311\\Lib\\site-packages\\sentence_transformers\\cross_encoder\\CrossEncoder.py:11: TqdmWarning: IProgress not found. Please update jupyter and ipywidgets. See https://ipywidgets.readthedocs.io/en/stable/user_install.html\n",
      "  from tqdm.autonotebook import tqdm, trange\n",
      "c:\\Users\\aryan\\AppData\\Local\\Programs\\Python\\Python311\\Lib\\site-packages\\huggingface_hub\\file_download.py:1132: FutureWarning: `resume_download` is deprecated and will be removed in version 1.0.0. Downloads always resume when possible. If you want to force a new download, use `force_download=True`.\n",
      "  warnings.warn(\n"
     ]
    }
   ],
   "source": [
    "from langchain_huggingface import HuggingFaceEmbeddings\n",
    "\n",
    "# specify embedding model (using huggingface sentence transformer)\n",
    "embedding_model_name = \"sentence-transformers/all-MiniLM-L6-v2\"\n",
    "model_kwargs = {\"device\": \"cuda\"}\n",
    "embeddings = HuggingFaceEmbeddings(\n",
    "  model_name=embedding_model_name, \n",
    "  model_kwargs=model_kwargs\n",
    ")"
   ]
  },
  {
   "cell_type": "code",
   "execution_count": 14,
   "metadata": {},
   "outputs": [
    {
     "data": {
      "text/plain": [
       "Index(['id', 'title', 'genres', 'original_language', 'overview', 'popularity',\n",
       "       'keywords', 'year', 'cast', 'director', 'score', 'soup'],\n",
       "      dtype='object')"
      ]
     },
     "execution_count": 14,
     "metadata": {},
     "output_type": "execute_result"
    }
   ],
   "source": [
    "df.columns"
   ]
  },
  {
   "cell_type": "code",
   "execution_count": 15,
   "metadata": {},
   "outputs": [],
   "source": [
    "vector_db = WeaviateVectorStore(\n",
    "    client = client,\n",
    "    index_name = \"LangChain_2adbdf1cd46e49c0ae3561cd1aa07cbe\",\n",
    "    text_key = \"text\",\n",
    "    embedding = embeddings\n",
    ")"
   ]
  },
  {
   "cell_type": "code",
   "execution_count": 16,
   "metadata": {},
   "outputs": [],
   "source": [
    "soups = pd.Series(df['soup'].values, index=df['title'])"
   ]
  },
  {
   "cell_type": "code",
   "execution_count": 17,
   "metadata": {},
   "outputs": [
    {
     "data": {
      "text/plain": [
       "title\n",
       "Godzilla x Kong: The New Empire     Title: Godzilla x Kong: The New Empire. Genres...\n",
       "Meg 2: The Trench                   Title: Meg 2: The Trench. Genres: Action Scien...\n",
       "The Pope's Exorcist                 Title: The Pope's Exorcist. Genres: Horror Mys...\n",
       "Transformers: Rise of the Beasts    Title: Transformers: Rise of the Beasts. Genre...\n",
       "Dune: Part Two                      Title: Dune: Part Two. Genres: Science Fiction...\n",
       "dtype: object"
      ]
     },
     "execution_count": 17,
     "metadata": {},
     "output_type": "execute_result"
    }
   ],
   "source": [
    "soups.head()"
   ]
  },
  {
   "cell_type": "code",
   "execution_count": 18,
   "metadata": {},
   "outputs": [],
   "source": [
    "def get_recommendations(title):\n",
    "    \n",
    "    if title not in soups:\n",
    "        raise ValueError(f\"Title '{title}' not found in indices\")\n",
    "    \n",
    "    query = soups.get(title)  \n",
    "    \n",
    "    results = vector_db.similarity_search(query, k=11)\n",
    "\n",
    "    top_ten = []\n",
    "\n",
    "    for x in results[1:]:\n",
    "        movie_metadata = {\n",
    "            'movie': x.metadata['movie'],\n",
    "            'language': x.metadata['language'],\n",
    "            'popularity': x.metadata['popularity'],\n",
    "            'score': round(x.metadata['score'],1),\n",
    "            'synopsis': x.metadata['synopsis'],\n",
    "            'year': x.metadata['year']\n",
    "        }\n",
    "        top_ten.append(movie_metadata)\n",
    "\n",
    "    df_top_ten = pd.DataFrame(top_ten)\n",
    "    similarities = df_top_ten.sort_values(by=['score', 'popularity'], ascending=[False, False])[['movie', 'language','score','year']]\n",
    "\n",
    "    return similarities, df_top_ten"
   ]
  },
  {
   "cell_type": "code",
   "execution_count": 19,
   "metadata": {},
   "outputs": [
    {
     "name": "stderr",
     "output_type": "stream",
     "text": [
      "c:\\Users\\aryan\\AppData\\Local\\Programs\\Python\\Python311\\Lib\\site-packages\\transformers\\models\\bert\\modeling_bert.py:435: UserWarning: 1Torch was not compiled with flash attention. (Triggered internally at ..\\aten\\src\\ATen\\native\\transformers\\cuda\\sdp_utils.cpp:455.)\n",
      "  attn_output = torch.nn.functional.scaled_dot_product_attention(\n"
     ]
    },
    {
     "data": {
      "text/html": [
       "<div>\n",
       "<style scoped>\n",
       "    .dataframe tbody tr th:only-of-type {\n",
       "        vertical-align: middle;\n",
       "    }\n",
       "\n",
       "    .dataframe tbody tr th {\n",
       "        vertical-align: top;\n",
       "    }\n",
       "\n",
       "    .dataframe thead th {\n",
       "        text-align: right;\n",
       "    }\n",
       "</style>\n",
       "<table border=\"1\" class=\"dataframe\">\n",
       "  <thead>\n",
       "    <tr style=\"text-align: right;\">\n",
       "      <th></th>\n",
       "      <th>movie</th>\n",
       "      <th>language</th>\n",
       "      <th>score</th>\n",
       "      <th>year</th>\n",
       "    </tr>\n",
       "  </thead>\n",
       "  <tbody>\n",
       "    <tr>\n",
       "      <th>0</th>\n",
       "      <td>The Dark Knight</td>\n",
       "      <td>English</td>\n",
       "      <td>8.5</td>\n",
       "      <td>2008.0</td>\n",
       "    </tr>\n",
       "    <tr>\n",
       "      <th>2</th>\n",
       "      <td>Batman Begins</td>\n",
       "      <td>English</td>\n",
       "      <td>7.7</td>\n",
       "      <td>2005.0</td>\n",
       "    </tr>\n",
       "    <tr>\n",
       "      <th>5</th>\n",
       "      <td>The Batman</td>\n",
       "      <td>English</td>\n",
       "      <td>7.6</td>\n",
       "      <td>2022.0</td>\n",
       "    </tr>\n",
       "    <tr>\n",
       "      <th>4</th>\n",
       "      <td>Batman: The Dark Knight Returns, Part 2</td>\n",
       "      <td>English</td>\n",
       "      <td>7.5</td>\n",
       "      <td>2013.0</td>\n",
       "    </tr>\n",
       "    <tr>\n",
       "      <th>3</th>\n",
       "      <td>Batman: The Dark Knight Returns, Part 1</td>\n",
       "      <td>English</td>\n",
       "      <td>7.3</td>\n",
       "      <td>2012.0</td>\n",
       "    </tr>\n",
       "    <tr>\n",
       "      <th>8</th>\n",
       "      <td>Batman</td>\n",
       "      <td>English</td>\n",
       "      <td>7.2</td>\n",
       "      <td>1989.0</td>\n",
       "    </tr>\n",
       "    <tr>\n",
       "      <th>1</th>\n",
       "      <td>Batman: The Dark Knight Returns</td>\n",
       "      <td>English</td>\n",
       "      <td>6.7</td>\n",
       "      <td>2013.0</td>\n",
       "    </tr>\n",
       "    <tr>\n",
       "      <th>6</th>\n",
       "      <td>Batman: Gotham Knight</td>\n",
       "      <td>English</td>\n",
       "      <td>6.6</td>\n",
       "      <td>2008.0</td>\n",
       "    </tr>\n",
       "    <tr>\n",
       "      <th>9</th>\n",
       "      <td>Batman: Gotham by Gaslight</td>\n",
       "      <td>English</td>\n",
       "      <td>6.6</td>\n",
       "      <td>2018.0</td>\n",
       "    </tr>\n",
       "    <tr>\n",
       "      <th>7</th>\n",
       "      <td>Knights of Badassdom</td>\n",
       "      <td>English</td>\n",
       "      <td>6.2</td>\n",
       "      <td>2013.0</td>\n",
       "    </tr>\n",
       "  </tbody>\n",
       "</table>\n",
       "</div>"
      ],
      "text/plain": [
       "                                     movie language  score    year\n",
       "0                          The Dark Knight  English    8.5  2008.0\n",
       "2                            Batman Begins  English    7.7  2005.0\n",
       "5                               The Batman  English    7.6  2022.0\n",
       "4  Batman: The Dark Knight Returns, Part 2  English    7.5  2013.0\n",
       "3  Batman: The Dark Knight Returns, Part 1  English    7.3  2012.0\n",
       "8                                   Batman  English    7.2  1989.0\n",
       "1          Batman: The Dark Knight Returns  English    6.7  2013.0\n",
       "6                    Batman: Gotham Knight  English    6.6  2008.0\n",
       "9               Batman: Gotham by Gaslight  English    6.6  2018.0\n",
       "7                     Knights of Badassdom  English    6.2  2013.0"
      ]
     },
     "execution_count": 19,
     "metadata": {},
     "output_type": "execute_result"
    }
   ],
   "source": [
    "similarities, result_df = get_recommendations('The Dark Knight Rises')\n",
    "similarities"
   ]
  },
  {
   "cell_type": "markdown",
   "metadata": {},
   "source": [
    "## Generate Summaries"
   ]
  },
  {
   "cell_type": "code",
   "execution_count": 20,
   "metadata": {},
   "outputs": [],
   "source": [
    "# pip install transformers peft accelerate bitsandbytes safetensors sentencepiece streamlit"
   ]
  },
  {
   "cell_type": "code",
   "execution_count": 21,
   "metadata": {},
   "outputs": [],
   "source": [
    "# pip install llama-index llama-index-llms-huggingface llama-index-embeddings-huggingface transformers accelerate bitsandbytes llama-index-readers-web matplotlib flash-attn"
   ]
  },
  {
   "cell_type": "code",
   "execution_count": 22,
   "metadata": {},
   "outputs": [],
   "source": [
    "# fixing unicode error in google colab\n",
    "import locale\n",
    "\n",
    "locale.getpreferredencoding = lambda: \"UTF-8\"\n",
    "\n",
    "# import dependencies\n",
    "import torch\n",
    "from transformers import (\n",
    "    AutoModelForCausalLM,\n",
    "    AutoTokenizer,\n",
    "    BitsAndBytesConfig,\n",
    "    pipeline,\n",
    ")"
   ]
  },
  {
   "cell_type": "markdown",
   "metadata": {},
   "source": [
    "### Quantizing the LLM"
   ]
  },
  {
   "cell_type": "code",
   "execution_count": 23,
   "metadata": {},
   "outputs": [],
   "source": [
    "# function for loading 4-bit quantized model\n",
    "def load_quantized_model(model_name: str):\n",
    "    \"\"\"\n",
    "    :param model_name: Name or path of the model to be loaded.\n",
    "    :return: Loaded quantized model.\n",
    "    \"\"\"\n",
    "    bnb_config = BitsAndBytesConfig(\n",
    "        load_in_4bit=True,\n",
    "        bnb_4bit_use_double_quant=True,\n",
    "        bnb_4bit_quant_type=\"nf4\",\n",
    "        bnb_4bit_compute_dtype=torch.bfloat16,\n",
    "    )\n",
    "\n",
    "    model = AutoModelForCausalLM.from_pretrained(\n",
    "        model_name,\n",
    "        # load_in_4bit=True,\n",
    "        torch_dtype=torch.bfloat16,\n",
    "        quantization_config=bnb_config,\n",
    "        device_map=\"auto\"\n",
    "    )\n",
    "    return model\n",
    "\n",
    "# function for initializing tokenizer\n",
    "def initialize_tokenizer(model_name: str):\n",
    "    \"\"\"\n",
    "    Initialize the tokenizer with the specified model_name.\n",
    "\n",
    "    :param model_name: Name or path of the model for tokenizer initialization.\n",
    "    :return: Initialized tokenizer.\n",
    "    \"\"\"\n",
    "    tokenizer = AutoTokenizer.from_pretrained(model_name, return_token_type_ids=False)\n",
    "    tokenizer.bos_token_id = 1  # Set beginning of sentence token id\n",
    "\n",
    "    return tokenizer"
   ]
  },
  {
   "cell_type": "code",
   "execution_count": 24,
   "metadata": {},
   "outputs": [
    {
     "name": "stderr",
     "output_type": "stream",
     "text": [
      "Special tokens have been added in the vocabulary, make sure the associated word embeddings are fine-tuned or trained.\n",
      "Loading checkpoint shards: 100%|██████████| 2/2 [00:17<00:00,  8.81s/it]\n"
     ]
    }
   ],
   "source": [
    "# specify model huggingface mode name\n",
    "model_name = \"microsoft/Phi-3-mini-4k-instruct\"\n",
    "\n",
    "# initialize tokenizer\n",
    "tokenizer = initialize_tokenizer(model_name)\n",
    "# load model\n",
    "model = load_quantized_model(model_name)"
   ]
  },
  {
   "cell_type": "markdown",
   "metadata": {},
   "source": [
    "### Setting up the LLM for inference using Langchain"
   ]
  },
  {
   "cell_type": "code",
   "execution_count": 25,
   "metadata": {},
   "outputs": [],
   "source": [
    "from langchain.llms import HuggingFacePipeline\n",
    "from langchain import HuggingFacePipeline"
   ]
  },
  {
   "cell_type": "code",
   "execution_count": 26,
   "metadata": {},
   "outputs": [],
   "source": [
    "\n",
    "# specify stop token ids\n",
    "stop_token_ids = [0]\n",
    "\n",
    "tokenizer.model_max_length = 2048\n",
    "\n",
    "# build huggingface pipeline for using zephyr-7b-alpha\n",
    "pipeline = pipeline(\n",
    "    \"text-generation\",\n",
    "    model=model,\n",
    "    tokenizer=tokenizer,\n",
    "    use_cache=True,\n",
    "    device_map=\"auto\",\n",
    "    max_length=2048,\n",
    "    do_sample=True,\n",
    "    top_k=1,\n",
    "    num_return_sequences=1,\n",
    "    eos_token_id=tokenizer.eos_token_id,\n",
    "    pad_token_id=tokenizer.eos_token_id,\n",
    "    truncation=True\n",
    ")"
   ]
  },
  {
   "cell_type": "code",
   "execution_count": 27,
   "metadata": {},
   "outputs": [
    {
     "name": "stderr",
     "output_type": "stream",
     "text": [
      "c:\\Users\\aryan\\AppData\\Local\\Programs\\Python\\Python311\\Lib\\site-packages\\langchain_core\\_api\\deprecation.py:119: LangChainDeprecationWarning: The class `HuggingFacePipeline` was deprecated in LangChain 0.0.37 and will be removed in 0.3. An updated version of the class exists in the langchain-huggingface package and should be used instead. To use it run `pip install -U langchain-huggingface` and import as `from langchain_huggingface import HuggingFacePipeline`.\n",
      "  warn_deprecated(\n"
     ]
    }
   ],
   "source": [
    "# specify the llm\n",
    "llm = HuggingFacePipeline(pipeline=pipeline)"
   ]
  },
  {
   "cell_type": "code",
   "execution_count": 28,
   "metadata": {},
   "outputs": [
    {
     "data": {
      "text/plain": [
       "Index(['movie', 'language', 'popularity', 'score', 'synopsis', 'year'], dtype='object')"
      ]
     },
     "execution_count": 28,
     "metadata": {},
     "output_type": "execute_result"
    }
   ],
   "source": [
    "result_df.columns"
   ]
  },
  {
   "cell_type": "code",
   "execution_count": 64,
   "metadata": {},
   "outputs": [],
   "source": [
    "# Define a prompt template\n",
    "prompt_template = \"\"\"\n",
    "Based on the provided information write a summary of the information. Do not repeat the question in the output.\n",
    "Movie: {movie}\n",
    "Language: {language}\n",
    "Popularity: {popularity}\n",
    "Weighted score: {score}\n",
    "Plot Overview: {synopsis}\n",
    "Year: {year}\n",
    "Summary: \n",
    "\"\"\"\n",
    "\n",
    "def get_summary(movie: str, language: str, popularity: str, score: str, synopsis: str, year: str):\n",
    "    prompt = prompt_template.format(movie=movie, \n",
    "                                    language=language, \n",
    "                                    popularity=popularity,\n",
    "                                    score=score,\n",
    "                                    synopsis=synopsis,\n",
    "                                    year=year\n",
    "                                    )\n",
    "    response = llm(prompt)        \n",
    "    return response.split('Summary:')[1].strip()"
   ]
  },
  {
   "cell_type": "code",
   "execution_count": 65,
   "metadata": {},
   "outputs": [
    {
     "name": "stdout",
     "output_type": "stream",
     "text": [
      "- Response: The Dark Knight, an English-language film released in 2008, is a popular superhero movie with a weighted score of 8.5. The plot revolves around Batman, aided by Lt. Jim Gordon and District Attorney Harvey Dent, as they combat crime in Gotham City. Their efforts lead to the dismantling of criminal organizations, but they become victims of chaos unleashed by the Joker, a notorious criminal mastermind. This thrilling story showcases Batman's determination to protect the city and its citizens from the Joker's reign of terror.\n",
      "- Response: Batman: The Dark Knight Returns is an English-language movie released in 2013, featuring a popularity score of 15.758. The film revolves around the iconic character of Batman, who has not been active in crime-fighting for a decade. A new wave of criminals threatens Gotham City, prompting the aging Bruce Wayne to don his Batman persona once again. The movie explores whether the seasoned hero can adapt and continue his fight against crime in a changed world. With a weighted score of 6.7, the film delves into the challenges and resilience of Batman in a new era.\n",
      "- Response: Batman Begins, an English-language film released in 2005, is a popular superhero movie with a weighted score of 7.7. The story revolves around billionaire Bruce Wayne, who, after experiencing personal tragedy, dedicates his life to combating the corruption in Gotham City. Unable to effect change within the existing system, he adopts a new identity as Batman, a symbol of fear for the criminal underworld. This film marks the beginning of the Dark Knight's journey, setting the stage for the iconic Batman franchise.\n",
      "- Response: Batman: The Dark Knight Returns, Part 1 is an English-language film released in 2012, directed by Christopher Nolan. With a popularity score of 32.236, it features a weighted score of 7.3. The movie revolves around the character of Bruce Wayne, who, at the age of 55, is compelled to return to his role as Batman after a decade of inactivity. Gotham City is plagued by a new wave of criminals, challenging Batman's abilities and questioning his relevance in the modern era.\n",
      "- Response: Batman: The Dark Knight Returns, Part 2 is an English-language movie released in 2013. With a popularity score of 29.118, it has a weighted score of 7.5. The film follows Batman, who has successfully halted the chaos caused by The Mutants in his city. However, an old adversary seeks a confrontation, and the government urges Superman to intervene and stop Batman.\n",
      "- Response: The Batman, a 2022 English-language film, has a popularity score of 165.673 and a weighted score of 7.6. The movie follows Batman, in his second year of crime-fighting, as he uncovers corruption in Gotham City that ties back to his family. Simultaneously, he confronts a serial killer known as the Riddler.\n",
      "- Response: Batman: Gotham Knight is an English-language animated film released in 2008. It consists of 6 standalone episodes that chronicle the journey of Bruce Wayne as he evolves into Gotham City's iconic superhero, Batman. The movie has a popularity score of 26.504 and a weighted score of 6.6. It provides a unique perspective on the Batman mythos, showcasing his transformation and development in a serialized format.\n",
      "- Response: Knights of Badassdom is an English-language film released in 2013, with a popularity score of 7.841. The movie revolves around three best friends who are passionate about role-playing games, specifically Dungeons and Dragons. They embark on a live-action role-playing adventure in the woods, using a purchased prop spellbook as part of their game. However, their fun-filled escapade takes a dark turn when the spellbook turns out to be a real grimoire, summoning a bloodthirsty succubus from hell. The film has a weighted score of 6.2, indicating its overall reception and quality.\n",
      "- Response: Batman, a 1989 English-language film, achieved a popularity score of 56.752 and a weighted score of 7.2. The movie features Batman, the iconic superhero, as he confronts his most formidable adversary, The Joker, a deformed and deranged villain who takes over Gotham's criminal underworld.\n",
      "- Response: Batman: Gotham by Gaslight is an English-language movie released in 2018. With a popularity score of 17.596, it has a weighted score of 6.6. Set in an alternative Victorian Age Gotham City, the film follows Batman as he combats crime and investigates a new series of murders attributed to Jack the Ripper. This unique blend of historical and superhero elements offers a distinctive take on the Batman universe.\n"
     ]
    }
   ],
   "source": [
    "for index, row in result_df.iterrows():\n",
    "    summary = get_summary(row.iloc[0], row.iloc[1], row.iloc[2], row.iloc[3], row.iloc[4], row.iloc[5])\n",
    "    print(summary)"
   ]
  },
  {
   "cell_type": "markdown",
   "metadata": {},
   "source": [
    "## Pipeline"
   ]
  },
  {
   "cell_type": "code",
   "execution_count": 140,
   "metadata": {},
   "outputs": [],
   "source": [
    "\n",
    "class MovieRecommender:\n",
    "    def __init__(self, soups, vector_db, llm):\n",
    "        self.soups = soups\n",
    "        self.vector_db = vector_db\n",
    "        self.llm = llm\n",
    "\n",
    "\n",
    "    def get_recommendations(self, title):\n",
    "        \n",
    "        if title not in self.soups:\n",
    "            raise ValueError(f\"Title '{title}' not found in indices\")\n",
    "        \n",
    "        query = self.soups.get(title)  \n",
    "        \n",
    "        results = self.vector_db.similarity_search(query, k=11)\n",
    "\n",
    "        top_ten = []\n",
    "\n",
    "        for x in results[1:]:\n",
    "            movie_metadata = {\n",
    "                'movie': x.metadata['movie'],\n",
    "                'language': x.metadata['language'],\n",
    "                'popularity': x.metadata['popularity'],\n",
    "                'score': round(x.metadata['score'],1),\n",
    "                'synopsis': x.metadata['synopsis'],\n",
    "                'year': x.metadata['year']\n",
    "            }\n",
    "            top_ten.append(movie_metadata)\n",
    "\n",
    "        df_top_ten = pd.DataFrame(top_ten)\n",
    "        df_top_ten.sort_values(by=['score', 'popularity'], ascending=[False, False], inplace=True)\n",
    "        similarities = df_top_ten[['movie', 'language','score','year']]\n",
    "\n",
    "        return similarities, df_top_ten\n",
    "\n",
    "    def _get_summary(self, movie: str, language: str, popularity: str, score: str, synopsis: str, year: str):\n",
    "        # Define a prompt template\n",
    "        prompt_template = \"\"\"\n",
    "        Write a brief summary based on the providedinformation. Do not repeat the question in the output.\n",
    "        Movie: {movie}\n",
    "        Language: {language}\n",
    "        Popularity: {popularity}\n",
    "        Weighted score: {score}\n",
    "        Plot Overview: {synopsis}\n",
    "        Year: {year}\n",
    "        Summary: \n",
    "        \"\"\"\n",
    "        \n",
    "        prompt = prompt_template.format(movie=movie, \n",
    "                                        language=language, \n",
    "                                        popularity=popularity,\n",
    "                                        score=score,\n",
    "                                        synopsis=synopsis,\n",
    "                                        year=year\n",
    "                                        )\n",
    "        response = llm(prompt)        \n",
    "        # Extract the response part without unwanted tags\n",
    "        if 'Summary:' in response:\n",
    "            response = response.split('Summary:')[1].strip()\n",
    "        \n",
    "        # Remove specific response tags like \"- [response]:\"\n",
    "        response = response.split(\"Explanation:\")[-1].strip()\n",
    "        \n",
    "        return response\n",
    "    \n",
    "    def generate_summaries(self, df_top_ten):\n",
    "        \"\"\"\n",
    "        Generate summaries for each row in the provided DataFrame.\n",
    "        \"\"\"\n",
    "        summaries = []\n",
    "        for _, row in df_top_ten.iterrows():\n",
    "            summary = self._get_summary(\n",
    "                row['movie'], row['language'], row['popularity'], row['score'], row['synopsis'], row['year']\n",
    "            )\n",
    "            summaries.append(summary)\n",
    "        return summaries"
   ]
  },
  {
   "cell_type": "code",
   "execution_count": 141,
   "metadata": {},
   "outputs": [],
   "source": [
    "recommender = MovieRecommender(soups, vector_db, llm)"
   ]
  },
  {
   "cell_type": "code",
   "execution_count": 142,
   "metadata": {},
   "outputs": [],
   "source": [
    "title = \"Interstellar\""
   ]
  },
  {
   "cell_type": "code",
   "execution_count": 143,
   "metadata": {},
   "outputs": [
    {
     "data": {
      "text/html": [
       "<div>\n",
       "<style scoped>\n",
       "    .dataframe tbody tr th:only-of-type {\n",
       "        vertical-align: middle;\n",
       "    }\n",
       "\n",
       "    .dataframe tbody tr th {\n",
       "        vertical-align: top;\n",
       "    }\n",
       "\n",
       "    .dataframe thead th {\n",
       "        text-align: right;\n",
       "    }\n",
       "</style>\n",
       "<table border=\"1\" class=\"dataframe\">\n",
       "  <thead>\n",
       "    <tr style=\"text-align: right;\">\n",
       "      <th></th>\n",
       "      <th>movie</th>\n",
       "      <th>language</th>\n",
       "      <th>score</th>\n",
       "      <th>year</th>\n",
       "    </tr>\n",
       "  </thead>\n",
       "  <tbody>\n",
       "    <tr>\n",
       "      <th>9</th>\n",
       "      <td>2001: A Space Odyssey</td>\n",
       "      <td>English</td>\n",
       "      <td>8.0</td>\n",
       "      <td>1968.0</td>\n",
       "    </tr>\n",
       "    <tr>\n",
       "      <th>1</th>\n",
       "      <td>The Martian</td>\n",
       "      <td>English</td>\n",
       "      <td>7.7</td>\n",
       "      <td>2015.0</td>\n",
       "    </tr>\n",
       "    <tr>\n",
       "      <th>5</th>\n",
       "      <td>Arrival</td>\n",
       "      <td>English</td>\n",
       "      <td>7.5</td>\n",
       "      <td>2016.0</td>\n",
       "    </tr>\n",
       "    <tr>\n",
       "      <th>8</th>\n",
       "      <td>Passengers</td>\n",
       "      <td>English</td>\n",
       "      <td>6.9</td>\n",
       "      <td>2016.0</td>\n",
       "    </tr>\n",
       "    <tr>\n",
       "      <th>0</th>\n",
       "      <td>Interstellar: Nolan's Odyssey</td>\n",
       "      <td>English</td>\n",
       "      <td>6.7</td>\n",
       "      <td>2014.0</td>\n",
       "    </tr>\n",
       "    <tr>\n",
       "      <th>4</th>\n",
       "      <td>Star Trek: The Motion Picture</td>\n",
       "      <td>English</td>\n",
       "      <td>6.5</td>\n",
       "      <td>1979.0</td>\n",
       "    </tr>\n",
       "    <tr>\n",
       "      <th>6</th>\n",
       "      <td>Millennium</td>\n",
       "      <td>English</td>\n",
       "      <td>6.3</td>\n",
       "      <td>1989.0</td>\n",
       "    </tr>\n",
       "    <tr>\n",
       "      <th>3</th>\n",
       "      <td>Capsule</td>\n",
       "      <td>English</td>\n",
       "      <td>6.3</td>\n",
       "      <td>2015.0</td>\n",
       "    </tr>\n",
       "    <tr>\n",
       "      <th>7</th>\n",
       "      <td>Approaching the Unknown</td>\n",
       "      <td>English</td>\n",
       "      <td>6.1</td>\n",
       "      <td>2016.0</td>\n",
       "    </tr>\n",
       "    <tr>\n",
       "      <th>2</th>\n",
       "      <td>Lost in Space</td>\n",
       "      <td>English</td>\n",
       "      <td>5.8</td>\n",
       "      <td>1998.0</td>\n",
       "    </tr>\n",
       "  </tbody>\n",
       "</table>\n",
       "</div>"
      ],
      "text/plain": [
       "                           movie language  score    year\n",
       "9          2001: A Space Odyssey  English    8.0  1968.0\n",
       "1                    The Martian  English    7.7  2015.0\n",
       "5                        Arrival  English    7.5  2016.0\n",
       "8                     Passengers  English    6.9  2016.0\n",
       "0  Interstellar: Nolan's Odyssey  English    6.7  2014.0\n",
       "4  Star Trek: The Motion Picture  English    6.5  1979.0\n",
       "6                     Millennium  English    6.3  1989.0\n",
       "3                        Capsule  English    6.3  2015.0\n",
       "7        Approaching the Unknown  English    6.1  2016.0\n",
       "2                  Lost in Space  English    5.8  1998.0"
      ]
     },
     "execution_count": 143,
     "metadata": {},
     "output_type": "execute_result"
    }
   ],
   "source": [
    "similarities, df_top_ten = recommender.get_recommendations(title)\n",
    "similarities"
   ]
  },
  {
   "cell_type": "code",
   "execution_count": 144,
   "metadata": {},
   "outputs": [
    {
     "data": {
      "text/plain": [
       "[\"2001: A Space Odyssey, released in 1968, is an English-language science fiction film that achieved a popularity score of 42.072. With a weighted score of 8.0, the movie follows humanity's quest to uncover the origins of a mysterious object discovered beneath the lunar surface. Assisted by HAL 9000, the most advanced supercomputer of its time, the story explores themes of human evolution, artificial intelligence, and the unknown depths of space.\",\n",
       " 'The Martian, an English-language film released in 2015, is a popular science fiction movie with a weighted score of 7.7. The story revolves around astronaut Mark Watney, who is presumed dead after a severe storm during a manned mission to Mars. However, Watney miraculously survives and becomes stranded on the inhospitable planet. With limited resources, he must rely on his ingenuity, wit, and spirit to survive and find a way to communicate with Earth that he is alive.',\n",
       " 'Arrival, an English-language film released in 2016, is a science fiction thriller with a popularity score of 54.631. The movie revolves around an expert linguist who is enlisted by the military to decipher the intentions of extraterrestrial beings whose spacecraft have landed globally. The plot delves into themes of communication, time, and the human response to the unknown, as the linguist grapples with the challenge of understanding an alien language and the implications of her discoveries. With a weighted score of 7.5, Arrival offers a thought-provoking narrative that explores the complexities of human interaction and the potential consequences of encountering an advanced alien civilization.',\n",
       " 'Passengers is an English-language film released in 2016, featuring a unique plot set aboard a spacecraft on a journey to a distant colony planet. The movie revolves around a malfunction in the sleep chambers, prematurely awakening two passengers 90 years ahead of schedule. With a popularity score of 29.563 and a weighted score of 6.9, Passengers offers a thought-provoking exploration of time, existence, and the human condition.',\n",
       " 'Interstellar, directed by Christopher Nolan, is an English-language space epic released in 2014. With a popularity score of 9.453 and a weighted score of 6.7, the film explores the odyssey of a group of explorers who venture through a wormhole in search of a new habitable planet. The movie delves into themes of love, survival, and the mysteries of the universe, offering a captivating and thought-provoking narrative.',\n",
       " 'Star Trek: The Motion Picture, released in 1979, is an English-language science fiction film that achieved a popularity score of 22.086. With a weighted score of 6.5, the movie follows the story of Admiral Kirk, who takes command of the Starship Enterprise to confront a dangerous space entity threatening Earth. The film combines elements of adventure, space exploration, and interstellar conflict as the crew works to examine and halt the approaching threat.',\n",
       " \"Millennium, released in 1989, is an English-language science fiction film with a popularity score of 9.296. The movie, based on John Varley's novel, follows an investigator who uncovers a time travel organization's involvement in an airline disaster. This group, originating from a future Earth devastated by pollution, aims to rejuvenate the human race by targeting individuals who are destined to die in the past. The film's weighted score is 6.3, indicating a moderate level of critical acclaim.\",\n",
       " \"Capsule is a 2015 English-language film that delves into the life of a seasoned British fighter pilot, who, after years of training during the Cold War, embarks on Britain's inaugural manned space mission. Stranded in space due to a malfunctioning capsule, the pilot faces isolation with minimal communication with the UK, the US, and the Soviet Union. The film explores his struggle for survival and the critical decisions he must make to ensure his return home. With a popularity score of 6.265 and a weighted score of 6.3, Capsule offers a gripping narrative of space exploration and international cooperation amidst geopolitical tensions.\",\n",
       " \"Approaching the Unknown is an English-language science fiction film released in 2016. With a popularity score of 8.039, it has garnered significant attention. The movie features Captain William Stanaforth, who embarks on a groundbreaking solo mission to Mars, aiming to establish the first human colony on the planet. As he navigates the vastness of space, Stanaforth encounters numerous challenges, making critical decisions that could mean life or death. The film's weighted score is 6.1, indicating a positive reception from audiences and critics alike.\",\n",
       " \"Lost in Space is an English-language film released in 1998, featuring a weighted score of 5.8. The movie revolves around the Robinson family, who embark on a mission to colonize Alpha Prime, the sole habitable planet in the galaxy, due to Earth's dwindling prospects for sustaining life by 2058. However, their journey takes an unexpected turn when a stowaway sabotages their mission, leading them into uncharted space. With a popularity rating of 19.636, Lost in Space captivates audiences with its thrilling space adventure.\"]"
      ]
     },
     "execution_count": 144,
     "metadata": {},
     "output_type": "execute_result"
    }
   ],
   "source": [
    "summaries = recommender.generate_summaries(df_top_ten)\n",
    "summaries"
   ]
  },
  {
   "cell_type": "code",
   "execution_count": null,
   "metadata": {},
   "outputs": [],
   "source": []
  }
 ],
 "metadata": {
  "kernelspec": {
   "display_name": "Python 3",
   "language": "python",
   "name": "python3"
  },
  "language_info": {
   "codemirror_mode": {
    "name": "ipython",
    "version": 3
   },
   "file_extension": ".py",
   "mimetype": "text/x-python",
   "name": "python",
   "nbconvert_exporter": "python",
   "pygments_lexer": "ipython3",
   "version": "3.11.3"
  }
 },
 "nbformat": 4,
 "nbformat_minor": 2
}
